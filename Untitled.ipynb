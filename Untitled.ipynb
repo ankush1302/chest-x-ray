{
 "cells": [
  {
   "cell_type": "code",
   "execution_count": 2,
   "id": "218b5e31",
   "metadata": {},
   "outputs": [],
   "source": [
    "import numpy as np\n",
    "import cv2\n",
    "from tensorflow import keras\n",
    "from keras.optimizers import Adam\n",
    "from keras.utils import np_utils\n",
    "from tensorflow.keras.utils import plot_model\n",
    "#from keras.layers import Activation, Dropout, Convolution2D, GlobalAveragePooling2D\n",
    "from keras.models import Sequential\n",
    "import tensorflow as tf\n",
    "import os\n",
    "import matplotlib.pyplot as plt\n",
    "import tensorflow as tf\n",
    "from tensorflow.keras import datasets, layers, models\n",
    "\n",
    "from keras.layers.core import Dense, Dropout, Flatten\n",
    "from keras.layers.convolutional import Conv2D, MaxPooling2D, SeparableConv2D\n",
    "\n",
    "from keras.layers import Activation, Dropout, Convolution2D, GlobalAveragePooling2D"
   ]
  },
  {
   "cell_type": "markdown",
   "id": "e6c79b1b",
   "metadata": {},
   "source": [
    "## Creating Train Dataset :"
   ]
  },
  {
   "cell_type": "code",
   "execution_count": 3,
   "id": "5096e036",
   "metadata": {},
   "outputs": [],
   "source": [
    "train_data =r\"C:\\Users\\91968\\Desktop\\Dive Into DL\\Chest X-Ray Images (Pneumonia)\\chest_xray\\train\""
   ]
  },
  {
   "cell_type": "code",
   "execution_count": 4,
   "id": "65231cb9",
   "metadata": {},
   "outputs": [
    {
     "data": {
      "text/plain": [
       "['NORMAL', 'PNEUMONIA']"
      ]
     },
     "execution_count": 4,
     "metadata": {},
     "output_type": "execute_result"
    }
   ],
   "source": [
    "os.listdir(train_data)"
   ]
  },
  {
   "cell_type": "code",
   "execution_count": 5,
   "id": "16c6ce29",
   "metadata": {},
   "outputs": [],
   "source": [
    "train_df = []\n",
    "\n",
    "for directory in os.listdir(train_data):\n",
    "    path = os.path.join(train_data, directory)\n",
    "    if not os.path.isdir(path):\n",
    "        continue\n",
    "    for item in os.listdir(path):\n",
    "        img = cv2.imread(os.path.join(path, item))\n",
    "        img = cv2.cvtColor(img,  cv2.COLOR_BGR2GRAY)\n",
    "        img = cv2.resize(img, (224, 224))\n",
    "        train_df.append([img, directory])"
   ]
  },
  {
   "cell_type": "code",
   "execution_count": 6,
   "id": "a21ad996",
   "metadata": {},
   "outputs": [
    {
     "name": "stdout",
     "output_type": "stream",
     "text": [
      "(5216, 224, 224)\n",
      "(5216,)\n",
      "Shape :  (5216, 224, 224, 1)\n"
     ]
    }
   ],
   "source": [
    "y_train=[]\n",
    "X_train=[]\n",
    "for x,y in train_df:\n",
    "    X_train.append(x)\n",
    "    y_train.append(y)\n",
    "for i in range(len(y_train)):\n",
    "    if y_train[i]=='NORMAL':\n",
    "        y_train[i]=0\n",
    "    else:\n",
    "        y_train[i]=1\n",
    "        \n",
    "        \n",
    "X_train=np.array(X_train)\n",
    "y_train=np.array(y_train)\n",
    "\n",
    "\n",
    "print(X_train.shape)\n",
    "print(y_train.shape)\n",
    "\n",
    "X_train=X_train.reshape(len(X_train),224,224,1)\n",
    "print('Shape : ' , X_train.shape)\n",
    "\n",
    "X_train=X_train/255"
   ]
  },
  {
   "cell_type": "markdown",
   "id": "105fb025",
   "metadata": {},
   "source": [
    "## Creating Test Dataset :"
   ]
  },
  {
   "cell_type": "code",
   "execution_count": 7,
   "id": "e061d13e",
   "metadata": {},
   "outputs": [],
   "source": [
    "test_data =r\"C:\\Users\\91968\\Desktop\\Dive Into DL\\Chest X-Ray Images (Pneumonia)\\chest_xray\\test\""
   ]
  },
  {
   "cell_type": "code",
   "execution_count": 8,
   "id": "e41540dd",
   "metadata": {},
   "outputs": [
    {
     "data": {
      "text/plain": [
       "['NORMAL', 'PNEUMONIA']"
      ]
     },
     "execution_count": 8,
     "metadata": {},
     "output_type": "execute_result"
    }
   ],
   "source": [
    "os.listdir(test_data)"
   ]
  },
  {
   "cell_type": "code",
   "execution_count": 9,
   "id": "9e8eeabe",
   "metadata": {},
   "outputs": [],
   "source": [
    "test_df = []\n",
    "\n",
    "for directory in os.listdir(test_data):\n",
    "    path = os.path.join(test_data, directory)\n",
    "    if not os.path.isdir(path):\n",
    "        continue\n",
    "    for item in os.listdir(path):\n",
    "        img = cv2.imread(os.path.join(path, item))\n",
    "        img = cv2.cvtColor(img,  cv2.COLOR_BGR2GRAY)\n",
    "        img = cv2.resize(img, (224, 224))\n",
    "        test_df.append([img, directory])"
   ]
  },
  {
   "cell_type": "code",
   "execution_count": 10,
   "id": "d8c5256f",
   "metadata": {},
   "outputs": [
    {
     "name": "stdout",
     "output_type": "stream",
     "text": [
      "(624, 224, 224)\n",
      "(624,)\n",
      "Shape X_test:  (624, 224, 224, 1)\n"
     ]
    }
   ],
   "source": [
    "y_test=[]\n",
    "X_test=[]\n",
    "for x,y in test_df:\n",
    "    X_test.append(x)\n",
    "    y_test.append(y)\n",
    "for i in range(len(y_test)):\n",
    "    if y_test[i]=='NORMAL':\n",
    "        y_test[i]=0\n",
    "    else:\n",
    "        y_test[i]=1\n",
    "        \n",
    "        \n",
    "X_test=np.array(X_test)\n",
    "y_test=np.array(y_test)\n",
    "\n",
    "\n",
    "print(X_test.shape)\n",
    "print(y_test.shape)\n",
    "\n",
    "X_test=X_test.reshape(len(X_test),224,224,1)\n",
    "print('Shape X_test: ' , X_test.shape)\n",
    "\n",
    "X_test=X_test/255"
   ]
  },
  {
   "cell_type": "code",
   "execution_count": 11,
   "id": "865b66e0",
   "metadata": {},
   "outputs": [],
   "source": [
    "# Used AlexNet :\n",
    "\n",
    "def net():\n",
    "    return tf.keras.models.Sequential([\n",
    "        \n",
    "        # input (224*224)\n",
    "        \n",
    "        tf.keras.layers.Conv2D(filters=96, kernel_size=11, strides=4,input_shape=(224,224,1),\n",
    "                               activation='relu'),\n",
    "        tf.keras.layers.BatchNormalization(),\n",
    "        \n",
    "        \n",
    "        #Batch normalization is a technique for training very deep neural networks that standardizes \n",
    "        #the inputs to a layer for each mini-batch. This has the effect of stabilizing the learning process \n",
    "        #and dramatically reducing the number of training epochs required to train deep networks.\n",
    "        \n",
    "        # (224-11+1)/4 \n",
    "        # (54*54*96)\n",
    "        \n",
    "        tf.keras.layers.MaxPool2D(pool_size=3, strides=2),\n",
    "        # (54-3+1)/2\n",
    "        #(26*26*96)\n",
    "        \n",
    "        tf.keras.layers.Conv2D(filters=256, kernel_size=5, padding='same',\n",
    "                               activation='relu'),\n",
    "        tf.keras.layers.BatchNormalization(),\n",
    "        #(26*26*256)\n",
    "        tf.keras.layers.MaxPool2D(pool_size=3, strides=2),\n",
    "        \n",
    "        #(26-3+1)/2\n",
    "        #(12*12*256)\n",
    "        \n",
    "        tf.keras.layers.Conv2D(filters=384, kernel_size=3, padding='same',\n",
    "                               activation='relu'),\n",
    "        #(12*12*384)\n",
    "        tf.keras.layers.BatchNormalization(),\n",
    "        tf.keras.layers.Conv2D(filters=384, kernel_size=3, padding='same',\n",
    "                               activation='relu'),\n",
    "        \n",
    "        #(12*12*384)\n",
    "        tf.keras.layers.BatchNormalization(),\n",
    "        tf.keras.layers.Conv2D(filters=256, kernel_size=3, padding='same',\n",
    "                               activation='relu'),\n",
    "        \n",
    "        #(12*12*256)\n",
    "        tf.keras.layers.BatchNormalization(),\n",
    "        tf.keras.layers.MaxPool2D(pool_size=3, strides=2),\n",
    "        \n",
    "        # (12-3+1)/2\n",
    "        # (5*5*256)\n",
    "        \n",
    "     \n",
    "        tf.keras.layers.Flatten(),\n",
    "        #output from flatten layer : (6400 neurons)\n",
    "        tf.keras.layers.BatchNormalization(),\n",
    "        \n",
    "        tf.keras.layers.Dense(4096, activation='relu'),\n",
    "        tf.keras.layers.Dropout(0.5),\n",
    "        tf.keras.layers.BatchNormalization(),\n",
    "        tf.keras.layers.Dense(4096, activation='relu'),\n",
    "        tf.keras.layers.Dropout(0.5),\n",
    "        tf.keras.layers.BatchNormalization(),\n",
    "        tf.keras.layers.Dense(1)"
   ]
  },
  {
   "cell_type": "code",
   "execution_count": 29,
   "id": "328e3afc",
   "metadata": {},
   "outputs": [
    {
     "name": "stdout",
     "output_type": "stream",
     "text": [
      "Model: \"sequential_4\"\n",
      "_________________________________________________________________\n",
      "Layer (type)                 Output Shape              Param #   \n",
      "=================================================================\n",
      "conv2d_20 (Conv2D)           (None, 54, 54, 96)        11712     \n",
      "_________________________________________________________________\n",
      "batch_normalization_32 (Batc (None, 54, 54, 96)        384       \n",
      "_________________________________________________________________\n",
      "max_pooling2d_12 (MaxPooling (None, 26, 26, 96)        0         \n",
      "_________________________________________________________________\n",
      "conv2d_21 (Conv2D)           (None, 26, 26, 256)       614656    \n",
      "_________________________________________________________________\n",
      "batch_normalization_33 (Batc (None, 26, 26, 256)       1024      \n",
      "_________________________________________________________________\n",
      "max_pooling2d_13 (MaxPooling (None, 12, 12, 256)       0         \n",
      "_________________________________________________________________\n",
      "conv2d_22 (Conv2D)           (None, 12, 12, 384)       885120    \n",
      "_________________________________________________________________\n",
      "batch_normalization_34 (Batc (None, 12, 12, 384)       1536      \n",
      "_________________________________________________________________\n",
      "conv2d_23 (Conv2D)           (None, 12, 12, 384)       1327488   \n",
      "_________________________________________________________________\n",
      "batch_normalization_35 (Batc (None, 12, 12, 384)       1536      \n",
      "_________________________________________________________________\n",
      "conv2d_24 (Conv2D)           (None, 12, 12, 256)       884992    \n",
      "_________________________________________________________________\n",
      "batch_normalization_36 (Batc (None, 12, 12, 256)       1024      \n",
      "_________________________________________________________________\n",
      "max_pooling2d_14 (MaxPooling (None, 5, 5, 256)         0         \n",
      "_________________________________________________________________\n",
      "flatten_4 (Flatten)          (None, 6400)              0         \n",
      "_________________________________________________________________\n",
      "batch_normalization_37 (Batc (None, 6400)              25600     \n",
      "_________________________________________________________________\n",
      "dense_12 (Dense)             (None, 4096)              26218496  \n",
      "_________________________________________________________________\n",
      "dropout_8 (Dropout)          (None, 4096)              0         \n",
      "_________________________________________________________________\n",
      "batch_normalization_38 (Batc (None, 4096)              16384     \n",
      "_________________________________________________________________\n",
      "dense_13 (Dense)             (None, 4096)              16781312  \n",
      "_________________________________________________________________\n",
      "dropout_9 (Dropout)          (None, 4096)              0         \n",
      "_________________________________________________________________\n",
      "batch_normalization_39 (Batc (None, 4096)              16384     \n",
      "_________________________________________________________________\n",
      "dense_14 (Dense)             (None, 1)                 4097      \n",
      "=================================================================\n",
      "Total params: 46,791,745\n",
      "Trainable params: 46,759,809\n",
      "Non-trainable params: 31,936\n",
      "_________________________________________________________________\n"
     ]
    }
   ],
   "source": [
    "model=net()\n",
    "model.compile(optimizer=keras.optimizers.Adam(learning_rate=0.1),\n",
    "                  loss=tf.keras.losses.BinaryCrossentropy(),\n",
    "                  metrics=[keras.metrics.BinaryAccuracy(name='accuracy')])\n",
    "model.summary()"
   ]
  },
  {
   "cell_type": "code",
   "execution_count": null,
   "id": "5bbd080f",
   "metadata": {},
   "outputs": [],
   "source": []
  },
  {
   "cell_type": "code",
   "execution_count": 39,
   "id": "439beb6a",
   "metadata": {},
   "outputs": [
    {
     "name": "stdout",
     "output_type": "stream",
     "text": [
      "Epoch 1/10\n",
      "82/82 [==============================] - 457s 5s/step - loss: 1.2182 - accuracy: 0.8924\n",
      "Epoch 2/10\n",
      "82/82 [==============================] - 391s 5s/step - loss: 0.6640 - accuracy: 0.9254\n",
      "Epoch 3/10\n",
      "82/82 [==============================] - 384s 5s/step - loss: 0.4677 - accuracy: 0.9400\n",
      "Epoch 4/10\n",
      "82/82 [==============================] - 384s 5s/step - loss: 0.6366 - accuracy: 0.9348\n"
     ]
    }
   ],
   "source": [
    "# class_weight = {0: 1,\n",
    "#                 1: 1}\n",
    "history=model.fit(X_train,y_train,\n",
    "                    epochs=10,\n",
    "\n",
    "                    batch_size=64,\n",
    "                    #validation_data=(X_test,y_test),\n",
    "                    #class_weight=class_weight,\n",
    "                    shuffle=True,\n",
    "                    callbacks=[tf.keras.callbacks.EarlyStopping(monitor='accuracy',patience=1,mode='auto')]\n",
    "                    \n",
    "                 )"
   ]
  },
  {
   "cell_type": "code",
   "execution_count": 51,
   "id": "c437a23e",
   "metadata": {},
   "outputs": [
    {
     "name": "stdout",
     "output_type": "stream",
     "text": [
      "20/20 [==============================] - 10s 511ms/step - loss: 3.2246 - accuracy: 0.7083\n"
     ]
    }
   ],
   "source": [
    "results=model.evaluate(X_test,y_test)"
   ]
  },
  {
   "cell_type": "code",
   "execution_count": 52,
   "id": "59ce50d2",
   "metadata": {},
   "outputs": [
    {
     "data": {
      "text/plain": [
       "[3.2246034145355225, 0.7083333134651184]"
      ]
     },
     "execution_count": 52,
     "metadata": {},
     "output_type": "execute_result"
    }
   ],
   "source": [
    "results"
   ]
  },
  {
   "cell_type": "code",
   "execution_count": 20,
   "id": "32af91f1",
   "metadata": {},
   "outputs": [
    {
     "data": {
      "text/plain": [
       "0.625"
      ]
     },
     "execution_count": 20,
     "metadata": {},
     "output_type": "execute_result"
    }
   ],
   "source": [
    "390/624"
   ]
  },
  {
   "cell_type": "code",
   "execution_count": 19,
   "id": "b1a3f416",
   "metadata": {},
   "outputs": [
    {
     "data": {
      "text/plain": [
       "390.0"
      ]
     },
     "execution_count": 19,
     "metadata": {},
     "output_type": "execute_result"
    }
   ],
   "source": [
    "0.6250*624"
   ]
  },
  {
   "cell_type": "code",
   "execution_count": null,
   "id": "b85a2630",
   "metadata": {},
   "outputs": [],
   "source": []
  }
 ],
 "metadata": {
  "kernelspec": {
   "display_name": "Python 3",
   "language": "python",
   "name": "python3"
  },
  "language_info": {
   "codemirror_mode": {
    "name": "ipython",
    "version": 3
   },
   "file_extension": ".py",
   "mimetype": "text/x-python",
   "name": "python",
   "nbconvert_exporter": "python",
   "pygments_lexer": "ipython3",
   "version": "3.7.10"
  }
 },
 "nbformat": 4,
 "nbformat_minor": 5
}
